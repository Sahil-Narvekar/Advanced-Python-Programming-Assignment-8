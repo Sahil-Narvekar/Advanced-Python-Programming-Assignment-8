{
 "cells": [
  {
   "cell_type": "code",
   "execution_count": null,
   "metadata": {},
   "outputs": [],
   "source": [
    "1. Given a sentence as txt, return True if any two adjacent words have this property: One word ends\n",
    "with a vowel, while the word immediately after begins with a vowel (a e i o u).\n",
    "\n",
    "Examples\n",
    "\n",
    "vowel_links(\"a very large appliance\") ➞ True\n",
    "\n",
    "vowel_links(\"go to edabit\") ➞ True\n",
    "\n",
    "vowel_links(\"an open fire\") ➞ False\n",
    "\n",
    "vowel_links(\"a sudden applause\") ➞ False\n"
   ]
  },
  {
   "cell_type": "code",
   "execution_count": 21,
   "metadata": {},
   "outputs": [
    {
     "name": "stdout",
     "output_type": "stream",
     "text": [
      "Enter the string a sudden applause\n"
     ]
    },
    {
     "data": {
      "text/plain": [
       "False"
      ]
     },
     "execution_count": 21,
     "metadata": {},
     "output_type": "execute_result"
    }
   ],
   "source": [
    "def vowel_links(a):\n",
    "    z=['a','e','i','o','u']\n",
    "    for i in range(len(a)-1):\n",
    "        if a[i][-1] in z and a[i+1][0] in z :\n",
    "            return True\n",
    "        elif i==(len(a)-2):\n",
    "            return False\n",
    "        else:\n",
    "            continue\n",
    "z=input('Enter the string ').split(' ')\n",
    "vowel_links(z)"
   ]
  },
  {
   "cell_type": "code",
   "execution_count": null,
   "metadata": {},
   "outputs": [],
   "source": [
    "2. You are given three inputs: a string, one letter, and a second letter.\n",
    "Write a function that returns True if every instance of the first letter occurs before every instance of\n",
    "the second letter.\n",
    "Examples\n",
    "first_before_second(\"a rabbit jumps joyfully\", \"a\", \"j\") ➞ True\n",
    "# Every instance of \"a\" occurs before every instance of \"j\".\n",
    "first_before_second(\"knaves knew about waterfalls\", \"k\", \"w\") ➞  True\n",
    "first_before_second(\"happy birthday\", \"a\", \"y\") ➞ False\n",
    "# The \"a\" in \"birthday\" occurs after the \"y\" in \"happy\".\n",
    "first_before_second(\"precarious kangaroos\", \"k\", \"a\") ➞ False"
   ]
  },
  {
   "cell_type": "code",
   "execution_count": 52,
   "metadata": {},
   "outputs": [
    {
     "name": "stdout",
     "output_type": "stream",
     "text": [
      "Enter the stringknaves knew about waterfalls\n",
      "Enter the first and second letter k,w\n"
     ]
    },
    {
     "data": {
      "text/plain": [
       "True"
      ]
     },
     "execution_count": 52,
     "metadata": {},
     "output_type": "execute_result"
    }
   ],
   "source": [
    "a=input('Enter the string')\n",
    "b,c=input('Enter the first and second letter ').split(',')\n",
    "def first_before_second(f,b,d):\n",
    "    m,z=[],[]\n",
    "    for i in range(len(f)):\n",
    "        if f[i]==b:\n",
    "            z.append(i) \n",
    "        elif f[i]==d:\n",
    "            m.append(i)   \n",
    "        else:\n",
    "            continue\n",
    "    for i in m:\n",
    "        if i in range(z[0],z[-1]):\n",
    "            return( False)\n",
    "        else:\n",
    "            return( True)\n",
    "first_before_second(a,b,c)        \n"
   ]
  },
  {
   "cell_type": "code",
   "execution_count": null,
   "metadata": {},
   "outputs": [],
   "source": [
    "3. Create a function that returns the characters from a list or string r on odd or even positions, \n",
    "depending on the specifier s. The specifier will be \"odd\" for items on odd positions (1, 3, 5, ...) \n",
    "and \"even\" for items on even positions (2, 4, 6, ...).\n",
    "\n",
    "Examples\n",
    "\n",
    "char_at_pos([2, 4, 6, 8, 10], \"even\") ➞ [4, 8]\n",
    "# 4 & 8 occupy the 2nd & 4th positions\n",
    "\n",
    "char_at_pos(\"EDABIT\", \"odd\") ➞ \"EAI\"\n",
    "# \"E\", \"A\" and \"I\" occupy the 1st, 3rd and 5th positions\n",
    "\n",
    "char_at_pos([\"A\", \"R\", \"B\", \"I\", \"T\", \"R\", \"A\", \"R\", \"I\", \"L\", \"Y\"], \"odd\") ➞ [\"A\", \"B\", \"T\", \"A\", \"I\", \"Y\"]\n"
   ]
  },
  {
   "cell_type": "code",
   "execution_count": 72,
   "metadata": {},
   "outputs": [
    {
     "name": "stdout",
     "output_type": "stream",
     "text": [
      "Enter the string \"A\", \"R\", \"B\", \"I\", \"T\", \"R\", \"A\", \"R\", \"I\", \"L\", \"Y\"\n",
      "Enter odd or even odd\n"
     ]
    },
    {
     "data": {
      "text/plain": [
       "['A', ' B', ' T', ' A', ' I', ' Y']"
      ]
     },
     "execution_count": 72,
     "metadata": {},
     "output_type": "execute_result"
    }
   ],
   "source": [
    "a=input('Enter the string ').replace('\"','')\n",
    "a=a.split(',')\n",
    "b=input('Enter odd or even ')\n",
    "def char_at_pos(a,b):\n",
    "    if b=='odd':\n",
    "        z=[a[i] for i in range(len(a)) if i%2==0 ]    \n",
    "    else:\n",
    "        z=[a[i]for i in range(len(a)) if i%2!=0]\n",
    "    try:\n",
    "        z=[int(i) for i in z]\n",
    "        return z\n",
    "    except:\n",
    "        return z\n",
    "char_at_pos(a,b)"
   ]
  },
  {
   "cell_type": "code",
   "execution_count": null,
   "metadata": {},
   "outputs": [],
   "source": [
    "4. Write a function that returns the greatest common divisor of all list elements.\n",
    "If the greatest common divisor is 1, return 1.\n",
    "\n",
    "Examples\n",
    "\n",
    "GCD([10, 20, 40]) ➞ 10\n",
    "\n",
    "GCD([1, 2, 3, 100]) ➞ 1\n",
    "\n",
    "GCD([1024, 192, 2048, 512]) ➞ 64\n"
   ]
  },
  {
   "cell_type": "code",
   "execution_count": 88,
   "metadata": {},
   "outputs": [
    {
     "name": "stdout",
     "output_type": "stream",
     "text": [
      "Enter the list 1024, 192, 2048, 512\n"
     ]
    },
    {
     "data": {
      "text/plain": [
       "64"
      ]
     },
     "execution_count": 88,
     "metadata": {},
     "output_type": "execute_result"
    }
   ],
   "source": [
    "a=input('Enter the list ').split(',')\n",
    "a=[int(i) for i in a]\n",
    "def GCD(a):\n",
    "    z=1\n",
    "    a.sort()\n",
    "    for i in range(1,min(a)+1):\n",
    "        for j in a:\n",
    "            if j%i!=0:\n",
    "                break\n",
    "            else:\n",
    "                if j==a[-1]:\n",
    "                    z=i\n",
    "                else:\n",
    "                    continue\n",
    "    return(z)  \n",
    "GCD(a)"
   ]
  },
  {
   "cell_type": "code",
   "execution_count": 91,
   "metadata": {},
   "outputs": [
    {
     "data": {
      "text/plain": [
       "[192, 512, 1024, 2048]"
      ]
     },
     "execution_count": 91,
     "metadata": {},
     "output_type": "execute_result"
    }
   ],
   "source": [
    "a=[1024, 192, 2048, 512]\n",
    "a.sort()\n",
    "a"
   ]
  },
  {
   "cell_type": "code",
   "execution_count": null,
   "metadata": {},
   "outputs": [],
   "source": [
    "\n",
    "5. A number/string is a palindrome if the digits/characters are the same when read both forward and \n",
    "backward. Examples include \"racecar\" and 12321. Given a positive number n, check if n or the binary\n",
    "representation of n is palindromic. Return the following:\n",
    "\n",
    "- \"Decimal only.\" if only n is a palindrome.\n",
    "- \"Binary only.\" if only the binary representation of n is a palindrome.\n",
    "- \"Decimal and binary.\" if both are palindromes.\n",
    "- \"Neither!\" if neither are palindromes.\n",
    "\n",
    "Examples\n",
    "\n",
    "palindrome_type(1306031) ➞ \"Decimal only.\"\n",
    "# decimal = 1306031\n",
    "# binary  = \"100111110110110101111\"\n",
    "\n",
    "palindrome_type(427787) ➞ \"Binary only.\"\n",
    "# decimal = 427787\n",
    "# binary  = \"1101000011100001011\"\n",
    "\n",
    "palindrome_type(313) ➞ \"Decimal and binary.\"\n",
    "# decimal = 313\n",
    "# binary  = 100111001\n",
    "\n",
    "palindrome_type(934) ➞ \"Neither!\"\n",
    "# decimal = 934\n",
    "# binary  = \"1110100110\""
   ]
  },
  {
   "cell_type": "code",
   "execution_count": 152,
   "metadata": {},
   "outputs": [
    {
     "name": "stdout",
     "output_type": "stream",
     "text": [
      "Enter the number313\n"
     ]
    },
    {
     "data": {
      "text/plain": [
       "'Decimal and Binary'"
      ]
     },
     "execution_count": 152,
     "metadata": {},
     "output_type": "execute_result"
    }
   ],
   "source": [
    "def palindrome_type(a):\n",
    "    b=str(a)\n",
    "    c=str(bin(a))[2:]\n",
    "    def splitit(b):\n",
    "        d=b[:(int(len(b)/2))]\n",
    "        if len(b)%2==0:   \n",
    "            e=b[(int(len(b)/2)):] \n",
    "        else:\n",
    "            e=b[(int(len(b)/2))+1:]\n",
    "        e=e[::-1]\n",
    "        if d==e:\n",
    "            return 1\n",
    "        else:\n",
    "            return 0\n",
    "    a=splitit(b)\n",
    "    b=splitit(c)\n",
    "    if (a,b)==(0,0):\n",
    "        return ('Neither')\n",
    "    elif (a,b)==(0,1):\n",
    "        return ('Binary only')\n",
    "    elif(a,b)==(1,0):\n",
    "        return ('Decimal only')\n",
    "    else:\n",
    "        return ('Decimal and Binary')\n",
    "r=int(input('Enter the number'))\n",
    "palindrome_type(r)"
   ]
  }
 ],
 "metadata": {
  "kernelspec": {
   "display_name": "Python 3",
   "language": "python",
   "name": "python3"
  },
  "language_info": {
   "codemirror_mode": {
    "name": "ipython",
    "version": 3
   },
   "file_extension": ".py",
   "mimetype": "text/x-python",
   "name": "python",
   "nbconvert_exporter": "python",
   "pygments_lexer": "ipython3",
   "version": "3.8.3"
  }
 },
 "nbformat": 4,
 "nbformat_minor": 4
}
